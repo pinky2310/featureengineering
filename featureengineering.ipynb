{
  "nbformat": 4,
  "nbformat_minor": 0,
  "metadata": {
    "colab": {
      "provenance": []
    },
    "kernelspec": {
      "name": "python3",
      "display_name": "Python 3"
    },
    "language_info": {
      "name": "python"
    }
  },
  "cells": [
    {
      "cell_type": "markdown",
      "source": [
        "#**FEATURE ENGINEERING.**"
      ],
      "metadata": {
        "id": "YolAok4EA4Mw"
      }
    },
    {
      "cell_type": "markdown",
      "source": [
        "##**ASSIGNMENT QUESTIONS.**"
      ],
      "metadata": {
        "id": "b2M3Xq0_BEe5"
      }
    },
    {
      "cell_type": "markdown",
      "source": [
        "**1.What is a parameter?**\n",
        "-  A **parameter** is a variable that the model learns from the training data, such as weights and biases in a neural network. Parameters are adjusted during training to minimize prediction error, distinguishing them from hyperparameters, which are set before training.\n"
      ],
      "metadata": {
        "id": "F7LiP2wHBODz"
      }
    },
    {
      "cell_type": "markdown",
      "source": [
        "**2.What is correlation?**  \n",
        "- Correlation is a statistical measure that describes the strength and direction of a relationship between two variables. It indicates how changes in one variable are associated with changes in another variable, typically quantified using a correlation coefficient, which ranges from -1 to 1.\n",
        "\n"
      ],
      "metadata": {
        "id": "xuzVRFlsnbOO"
      }
    },
    {
      "cell_type": "markdown",
      "source": [
        "**3.What does negative correlation mean?**\n",
        "- Negative correlation means that as one variable increases, the other variable tends to decrease, and vice versa. A negative correlation coefficient (between -1 and 0) indicates an inverse relationship, suggesting that the two variables move in opposite directions.\n"
      ],
      "metadata": {
        "id": "CgmMUXHVn5XE"
      }
    },
    {
      "cell_type": "markdown",
      "source": [
        "**4.Define Machine Learning.**\n",
        "- Machine Learning is a subset of artificial intelligence that enables systems to learn from data, identify patterns, and make decisions with minimal human intervention."
      ],
      "metadata": {
        "id": "DF9U91wSn_ke"
      }
    },
    {
      "cell_type": "markdown",
      "source": [
        "**5.What are the main components in Machine Learning?**\n",
        "- The main components are:\n",
        "\n",
        "- Data: The input used for training and testing.\n",
        "- Model: The algorithm that makes predictions or classifications.\n",
        "- Training: The process of teaching the model using data.\n",
        "- Evaluation: Assessing the model's performance using metrics.\n",
        "- Prediction: Using the trained model to make predictions on new data."
      ],
      "metadata": {
        "id": "wFYJn95qoSAk"
      }
    },
    {
      "cell_type": "markdown",
      "source": [
        "**6.How does loss value help in determining whether the model is good or not?**\n",
        "- The loss value quantifies how well the model's predictions match the actual outcomes. A lower loss indicates better performance, while a higher loss suggests the model is not fitting the data well."
      ],
      "metadata": {
        "id": "oBNKjraOoX__"
      }
    },
    {
      "cell_type": "markdown",
      "source": [
        "**7.What are continuous and categorical variables?**\n",
        "\n",
        "- Continuous variables: Numeric variables that can take any value within a range (e.g., height, weight).\n",
        "- Categorical variables: Variables that represent distinct categories or groups (e.g., gender, color"
      ],
      "metadata": {
        "id": "ea0c3aIhol7O"
      }
    },
    {
      "cell_type": "markdown",
      "source": [
        "**8.How do we handle categorical variables in Machine Learning? What are the common techniques?**\n",
        "- Common techniques include:\n",
        "\n",
        " - One-Hot Encoding: Creating binary columns for each category.\n",
        " - Label Encoding: Assigning a unique integer to each category.\n",
        " - Binary Encoding: Combining one-hot and label encoding for high cardinality.\n"
      ],
      "metadata": {
        "id": "4sLnNkczouGs"
      }
    },
    {
      "cell_type": "markdown",
      "source": [
        "**9.What do you mean by training and testing a dataset?**\n",
        "- Training a dataset involves using a portion of the data to teach the model, while testing involves evaluating the model's performance on a separate portion of the data that it hasn't seen before."
      ],
      "metadata": {
        "id": "G_EPA36_o4VS"
      }
    },
    {
      "cell_type": "markdown",
      "source": [
        "**10.What is sklearn.preprocessing?**\n",
        "- sklearn.preprocessing is a module in the Scikit-learn library that provides functions for scaling, transforming, and encoding data to prepare it for machine learning models."
      ],
      "metadata": {
        "id": "-f0GAs7PpR9M"
      }
    },
    {
      "cell_type": "markdown",
      "source": [
        "**11.What is a Test set?**\n",
        "- A test set is a subset of the dataset used to evaluate the performance of a trained model, ensuring that the model generalizes well to unseen data."
      ],
      "metadata": {
        "id": "ryrVlesJpW9C"
      }
    },
    {
      "cell_type": "markdown",
      "source": [
        "**12.How do we split data for model fitting (training and testing) in Python?**\n",
        "- You can use train_test_split from sklearn.model_selection to randomly split the dataset into training and testing sets"
      ],
      "metadata": {
        "id": "2P8s9D0Ipp_8"
      }
    },
    {
      "cell_type": "markdown",
      "source": [
        "**13.How do you approach a Machine Learning problem?**\n",
        "\n",
        "- Define the problem.\n",
        "- Collect and preprocess data.\n",
        "- Explore and analyze data (EDA).\n",
        "- Select a model and train it.\n",
        "- Evaluate the model's performance.\n",
        "- Tune hyperparameters and optimize.\n",
        "- Deploy the model."
      ],
      "metadata": {
        "id": "lqgQoKNyp9io"
      }
    },
    {
      "cell_type": "markdown",
      "source": [
        "**14.Why do we have to perform EDA before fitting a model to the data?**\n",
        "- EDA helps understand the data's structure, identify patterns, detect anomalies, and inform feature selection, which can improve model performance."
      ],
      "metadata": {
        "id": "Y0_a8a1bqLYb"
      }
    },
    {
      "cell_type": "markdown",
      "source": [
        " **15.How can you find correlation between variables in Python?**  \n",
        "   - You can use the `corr()` method in pandas DataFrames or the `numpy.corrcoef()` function to calculate correlation coefficients."
      ],
      "metadata": {
        "id": "HyLh9XqfqU4V"
      }
    },
    {
      "cell_type": "markdown",
      "source": [
        " **16.What is causation? Explain the difference between correlation and causation with an example.**  \n",
        "   - Causation indicates that one event directly affects another. For example, increasing temperature (cause) leads to ice cream sales increasing (effect). Correlation does not imply causation; for instance, ice cream sales and drowning incidents may correlate due to both being higher in summer, but one does not cause the other."
      ],
      "metadata": {
        "id": "PvXegvtQqwBJ"
      }
    },
    {
      "cell_type": "markdown",
      "source": [
        "**17.What is an Optimizer? What are different types of optimizers? Explain each with an example.**  \n",
        "  - An optimizer adjusts the model's parameters to minimize the loss function. Common types include:\n",
        "\n",
        "  - **Gradient Descent:** Updates parameters based on the gradient of the loss function.\n",
        "\n",
        "  - **Stochastic Gradient Descent (SGD):** Uses a random subset of data for each update.\n",
        "\n",
        "  - **Adam:** Combines momentum and adaptive learning rates for efficient training."
      ],
      "metadata": {
        "id": "aC9AO_J3q7FI"
      }
    },
    {
      "cell_type": "markdown",
      "source": [
        "**18**.**What is sklearn.linear_model?**  \n",
        " -   `sklearn.linear_model` is a module in Scikit-learn that provides linear models for regression and classification, such as Linear Regression and Logistic Regression.\n"
      ],
      "metadata": {
        "id": "aIMzCDtdsU9D"
      }
    },
    {
      "cell_type": "markdown",
      "source": [
        "**19.What does model.fit() do? What arguments must be given?**  \n",
        "   - `model.fit()` trains the model on the provided training data. It typically requires the input features (X) and target labels (y) as arguments."
      ],
      "metadata": {
        "id": "CKiTzicgrKkO"
      }
    },
    {
      "cell_type": "markdown",
      "source": [
        "**20.What are continuous and categorical variables?**\n",
        "\n",
        "- Continuous variables: Numeric variables that can take any value within a range, such as height, weight, or temperature. They can be measured and have infinite possible values.\n",
        "- Categorical variables: Variables that represent distinct categories or groups, such as gender, color, or type of product. They can be nominal (no inherent order) or ordinal (with a specific order)."
      ],
      "metadata": {
        "id": "ChUMZnresf6v"
      }
    },
    {
      "cell_type": "markdown",
      "source": [
        "**21.** **What is feature scaling? How does it help in Machine Learning?**  \n",
        "   - Feature scaling is the process of normalizing or standardizing the range of independent variables (features) in the dataset. It helps in:\n",
        "   - Improving the convergence speed of optimization algorithms.\n",
        "   - Ensuring that features contribute equally to the distance calculations in algorithms like k-NN and SVM.\n",
        "   - Preventing features with larger ranges from dominating the model."
      ],
      "metadata": {
        "id": "0veBmybmswTC"
      }
    },
    {
      "cell_type": "markdown",
      "source": [
        "**22.** **How do we perform scaling in Python?**  \n",
        "   - You can perform scaling using the `StandardScaler` or `MinMaxScaler` from the `sklearn.preprocessing` module. For example:\n",
        "   ```python\n",
        "   from sklearn.preprocessing import StandardScaler\n",
        "   scaler = StandardScaler()\n",
        "   scaled_data = scaler.fit_transform(data)\n",
        "   ```"
      ],
      "metadata": {
        "id": "x1q5BDiDs5zE"
      }
    },
    {
      "cell_type": "markdown",
      "source": [
        "**23.What is sklearn.preprocessing?**  \n",
        "   - `sklearn.preprocessing` is a module in the Scikit-learn library that provides various functions and classes for preprocessing data, including scaling, normalization, encoding categorical variables, and more."
      ],
      "metadata": {
        "id": "B45mcVRYtFcn"
      }
    },
    {
      "cell_type": "markdown",
      "source": [
        " **24.How do we split data for model fitting (training and testing) in Python?**  \n",
        "   - You can use the `train_test_split` function from `sklearn.model_selection` to split the dataset into training and testing sets. For example:\n",
        "   ```python\n",
        "   from sklearn.model_selection import train_test_split\n",
        "   X_train, X_test, y_train, y_test = train_test_split(X, y, test_size=0.2, random_state=42)\n",
        "   ```"
      ],
      "metadata": {
        "id": "Qs9F1hV8tiXy"
      }
    },
    {
      "cell_type": "markdown",
      "source": [
        "**25.Explain data encoding.**  \n",
        "   - Data encoding is the process of converting categorical variables into a numerical format that can be used by machine learning algorithms. Common techniques include:\n",
        "   - **One-Hot Encoding:** Creates binary columns for each category.\n",
        "   - **Label Encoding:** Assigns a unique integer to each category.\n",
        "   - **Binary Encoding:** Combines one-hot and label encoding for high cardinality features."
      ],
      "metadata": {
        "id": "qriMw-c_tvfj"
      }
    }
  ]
}